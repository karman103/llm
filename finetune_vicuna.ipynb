{
 "cells": [
  {
   "cell_type": "code",
   "execution_count": 1,
   "metadata": {},
   "outputs": [],
   "source": [
    "\n",
    "from llama_cpp import Llama\n",
    "import json"
   ]
  },
  {
   "cell_type": "code",
   "execution_count": 2,
   "metadata": {},
   "outputs": [
    {
     "name": "stdout",
     "output_type": "stream",
     "text": [
      "Loading model...\n",
      "Model loaded\n"
     ]
    },
    {
     "name": "stderr",
     "output_type": "stream",
     "text": [
      "AVX = 1 | AVX2 = 1 | AVX512 = 0 | AVX512_VBMI = 0 | AVX512_VNNI = 0 | FMA = 1 | NEON = 0 | ARM_FMA = 0 | F16C = 1 | FP16_VA = 0 | WASM_SIMD = 0 | BLAS = 0 | SSE3 = 1 | VSX = 0 | \n"
     ]
    }
   ],
   "source": [
    "# load the model\n",
    "print(\"Loading model...\")\n",
    "llm = Llama(model_path=r\"C:\\Users\\16473\\projects\\ML\\vicuna\\ggml-vic7b-q5_1.bin\")\n",
    "print(\"Model loaded\")"
   ]
  },
  {
   "cell_type": "code",
   "execution_count": 3,
   "metadata": {},
   "outputs": [
    {
     "name": "stdout",
     "output_type": "stream",
     "text": [
      "Running the model\n",
      "{'id': 'cmpl-7773e096-7324-4226-91c5-7af42f8c3968', 'object': 'text_completion', 'created': 1689573078, 'model': 'C:\\\\Users\\\\16473\\\\projects\\\\ML\\\\vicuna\\\\ggml-vic7b-q5_1.bin', 'choices': [{'text': 'Question: What are You? A: I am a person who has been diagnosed with bipolar disorder.', 'index': 0, 'logprobs': None, 'finish_reason': 'stop'}], 'usage': {'prompt_tokens': 9, 'completion_tokens': 16, 'total_tokens': 25}}\n"
     ]
    }
   ],
   "source": [
    "# store the result\n",
    "print(\"Running the model\")\n",
    "output = llm(\"Question: What are You? A:\",\n",
    "            max_tokens=100,\n",
    "            stop=['\\n',\"Question:\",\"Q:\"],\n",
    "            echo=True\n",
    "            )\n",
    "print(output)\n"
   ]
  },
  {
   "cell_type": "code",
   "execution_count": 4,
   "metadata": {},
   "outputs": [
    {
     "name": "stdout",
     "output_type": "stream",
     "text": [
      "Running the model\n"
     ]
    },
    {
     "name": "stderr",
     "output_type": "stream",
     "text": [
      "Llama.generate: prefix-match hit\n"
     ]
    },
    {
     "name": "stdout",
     "output_type": "stream",
     "text": [
      "{'id': 'cmpl-4b522744-f93b-42e1-a290-0e988660f8c9', 'object': 'text_completion', 'created': 1689573222, 'model': 'C:\\\\Users\\\\16473\\\\projects\\\\ML\\\\vicuna\\\\ggml-vic7b-q5_1.bin', 'choices': [{'text': \"Question: What can you do? A: I'm a computer programmer.\", 'index': 0, 'logprobs': None, 'finish_reason': 'stop'}], 'usage': {'prompt_tokens': 10, 'completion_tokens': 7, 'total_tokens': 17}}\n"
     ]
    }
   ],
   "source": [
    "# store the result\n",
    "print(\"Running the model\")\n",
    "output = llm(\"Question: What can you do? A:\",\n",
    "            max_tokens=100,\n",
    "            stop=['\\n',\"Question:\",\"Q:\"],\n",
    "            echo=True\n",
    "            )\n",
    "print(output)\n"
   ]
  }
 ],
 "metadata": {
  "kernelspec": {
   "display_name": "base",
   "language": "python",
   "name": "python3"
  },
  "language_info": {
   "codemirror_mode": {
    "name": "ipython",
    "version": 3
   },
   "file_extension": ".py",
   "mimetype": "text/x-python",
   "name": "python",
   "nbconvert_exporter": "python",
   "pygments_lexer": "ipython3",
   "version": "3.9.13"
  },
  "orig_nbformat": 4
 },
 "nbformat": 4,
 "nbformat_minor": 2
}
